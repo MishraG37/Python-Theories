{
 "cells": [
  {
   "cell_type": "code",
   "execution_count": 2,
   "id": "b03abcde",
   "metadata": {},
   "outputs": [],
   "source": [
    "#CASE 1\n",
    "\n",
    "#SINGLE UNDERSCORE (_)\n",
    "\n"
   ]
  },
  {
   "cell_type": "code",
   "execution_count": 4,
   "id": "b64a3cb3",
   "metadata": {},
   "outputs": [
    {
     "name": "stdout",
     "output_type": "stream",
     "text": [
      "3\n"
     ]
    }
   ],
   "source": [
    "#1 as variable\n",
    "_=3\n",
    "print(_)"
   ]
  },
  {
   "cell_type": "code",
   "execution_count": 5,
   "id": "be13e881",
   "metadata": {},
   "outputs": [
    {
     "name": "stdout",
     "output_type": "stream",
     "text": [
      "1\n",
      "2\n",
      "3\n",
      "4\n",
      "5\n"
     ]
    }
   ],
   "source": [
    "#as temporary variable\n",
    "a=[1,2,3,4,5]\n",
    "for _ in a:\n",
    "    print(_)"
   ]
  },
  {
   "cell_type": "code",
   "execution_count": 9,
   "id": "3ea64120",
   "metadata": {},
   "outputs": [
    {
     "name": "stdout",
     "output_type": "stream",
     "text": [
      "Shubham\n",
      "BLR\n"
     ]
    }
   ],
   "source": [
    "#In Packing and Unpacking \n",
    "people= 'Shubham',45,\"BLR\", 120000\n",
    "name,_,_,Salary=people\n",
    "print(name)\n",
    "print(_) #latest value will be assigned in case of multiple values being assigned"
   ]
  },
  {
   "cell_type": "code",
   "execution_count": null,
   "id": "f3035c50",
   "metadata": {},
   "outputs": [],
   "source": [
    "#CASE 2\n",
    "\n",
    "#Single leading underscore \n",
    "\n",
    "#Using from one module to another\n",
    "\n",
    "from module1 import *\n",
    "\n",
    "\n",
    "print(addition(2,5))  #this will work\n",
    "print(_multiply(2,5)) #this wont work to use this we will have to use (import module1 ) instead of (from module1 import *)\n",
    "\n",
    "\n",
    "#i.e. use\n",
    "import module1\n",
    "\n",
    "\n",
    "print(addition(2,5))  #this will work\n",
    "print(_multiply(2,5))"
   ]
  },
  {
   "cell_type": "code",
   "execution_count": 18,
   "id": "ab608b37",
   "metadata": {},
   "outputs": [
    {
     "name": "stdout",
     "output_type": "stream",
     "text": [
      "Shubham\n",
      "24\n",
      "BLR\n",
      "['_Abs__loc', '__class__', '__delattr__', '__dict__', '__dir__', '__doc__', '__eq__', '__format__', '__ge__', '__getattribute__', '__gt__', '__hash__', '__init__', '__init_subclass__', '__le__', '__lt__', '__module__', '__ne__', '__new__', '__reduce__', '__reduce_ex__', '__repr__', '__setattr__', '__sizeof__', '__str__', '__subclasshook__', '__weakref__', '_age', 'name']\n",
      "SM\n",
      "25\n",
      "PNB\n",
      "BLR\n",
      "['_Abs__loc', '_Bas__loc', '__class__', '__delattr__', '__dict__', '__dir__', '__doc__', '__eq__', '__format__', '__ge__', '__getattribute__', '__gt__', '__hash__', '__init__', '__init_subclass__', '__le__', '__lt__', '__module__', '__ne__', '__new__', '__reduce__', '__reduce_ex__', '__repr__', '__setattr__', '__sizeof__', '__str__', '__subclasshook__', '__weakref__', '_age', 'name']\n"
     ]
    }
   ],
   "source": [
    "#double leading underscore \n",
    "\n",
    "\n",
    "class Abs:\n",
    "    def __init__(xyz):\n",
    "        xyz.name=\"Shubham\"\n",
    "        xyz._age=24\n",
    "        xyz.__loc=\"BLR\"\n",
    "        \n",
    "a=Abs()\n",
    "print(a.name)\n",
    "print(a._age)\n",
    "print(a._Abs__loc)  # actually thisi is modified as _Abs__loc and this is called MANGLING\n",
    "print(dir(a)) #Its output will be ['_Abs__loc', '__class__', '__delattr__', '__dict__', '__dir__', '__doc__', \n",
    "              # '__eq__', '__format__', '__ge__', '__getattribute__', '__gt__', '__hash__', '__init__', '__init_subclass__', '__le__',\n",
    "              #'__lt__', '__module__', '__ne__', '__new__', '__reduce__', '__reduce_ex__', '__repr__', '__setattr__', '__sizeof__', \n",
    "                  #'__str__', '__subclasshook__', '__weakref__', '_age', 'name']\n",
    "#it does so to stop using it by its Child class but this can certainly be reduced \n",
    " #i.e.\n",
    "class Bas(Abs):\n",
    "    def __init__(self):\n",
    "        super().__init__()\n",
    "        self.name='SM'\n",
    "        self._age=25\n",
    "        self.__loc=\"PNB\"\n",
    "        \n",
    "                            #===============> These applies for both methods and variables\n",
    "m=Bas()\n",
    "print(m.name)\n",
    "print(m._age)\n",
    "print(m._Bas__loc) #PNB\n",
    "print(m._Abs__loc) #BLR\n",
    "print(dir(m))      #['_Abs__loc', '_Bas__loc', '__class__', '__delattr__', '__dict__', '__dir__', '__doc__', '__eq__',\n",
    "                   #'__format__', '__ge__', '__getattribute__', '__gt__', '__hash__', '__init__', '__init_subclass__', \n",
    "                    #'__le__', '__lt__', '__module__', '__ne__', '__new__', '__reduce__', '__reduce_ex__', '__repr__',\n",
    "                    #'__setattr__', '__sizeof__', '__str__', '__subclasshook__', '__weakref__', '_age', 'name']\n",
    "        "
   ]
  },
  {
   "cell_type": "code",
   "execution_count": null,
   "id": "22b9fa7a",
   "metadata": {},
   "outputs": [],
   "source": [
    "#Mangling \n",
    "#Dunder any var or method starting with __ is called dunder variable. Eg. __city => Dunder city or __init__ => dunder init()\n"
   ]
  },
  {
   "cell_type": "code",
   "execution_count": null,
   "id": "2bddfd3d",
   "metadata": {},
   "outputs": [],
   "source": []
  },
  {
   "cell_type": "code",
   "execution_count": null,
   "id": "38f78de9",
   "metadata": {},
   "outputs": [],
   "source": []
  },
  {
   "cell_type": "code",
   "execution_count": null,
   "id": "acf3d456",
   "metadata": {},
   "outputs": [],
   "source": []
  },
  {
   "cell_type": "code",
   "execution_count": null,
   "id": "66e95a48",
   "metadata": {},
   "outputs": [],
   "source": []
  },
  {
   "cell_type": "code",
   "execution_count": null,
   "id": "52b8a96d",
   "metadata": {},
   "outputs": [],
   "source": []
  },
  {
   "cell_type": "code",
   "execution_count": null,
   "id": "96fd88bb",
   "metadata": {},
   "outputs": [],
   "source": []
  },
  {
   "cell_type": "code",
   "execution_count": null,
   "id": "760c4128",
   "metadata": {},
   "outputs": [],
   "source": []
  },
  {
   "cell_type": "code",
   "execution_count": null,
   "id": "a70f3391",
   "metadata": {},
   "outputs": [],
   "source": []
  },
  {
   "cell_type": "code",
   "execution_count": null,
   "id": "41a40121",
   "metadata": {},
   "outputs": [],
   "source": []
  },
  {
   "cell_type": "code",
   "execution_count": null,
   "id": "fcc60c8f",
   "metadata": {},
   "outputs": [],
   "source": []
  }
 ],
 "metadata": {
  "kernelspec": {
   "display_name": "Python 3 (ipykernel)",
   "language": "python",
   "name": "python3"
  },
  "language_info": {
   "codemirror_mode": {
    "name": "ipython",
    "version": 3
   },
   "file_extension": ".py",
   "mimetype": "text/x-python",
   "name": "python",
   "nbconvert_exporter": "python",
   "pygments_lexer": "ipython3",
   "version": "3.9.7"
  }
 },
 "nbformat": 4,
 "nbformat_minor": 5
}
